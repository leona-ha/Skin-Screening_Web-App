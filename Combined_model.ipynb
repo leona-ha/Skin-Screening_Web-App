{
 "cells": [
  {
   "cell_type": "code",
   "execution_count": 1,
   "metadata": {},
   "outputs": [],
   "source": [
    "import matplotlib.pyplot as plt\n",
    "#from PIL import Image\n",
    "import matplotlib.image as mpimg\n",
    "import numpy as np\n",
    "#from tensorflow.keras.utils import to_categorical\n",
    "from tensorflow.keras.preprocessing.image import ImageDataGenerator, img_to_array, load_img\n",
    "from tensorflow.keras import layers, models\n",
    "from tensorflow.keras import optimizers\n",
    "from tensorflow.keras.layers import Input, Dense, Reshape, Flatten, Dropout, multiply\n",
    "from tensorflow.keras.layers import BatchNormalization, Activation, Embedding, ZeroPadding2D\n",
    "from tensorflow.keras.optimizers import Adam\n",
    "from tensorflow.keras.models import Model\n",
    "from tensorflow.keras.callbacks import EarlyStopping, ReduceLROnPlateau, ModelCheckpoint\n",
    "import tensorflow.metrics\n",
    "import pandas as pd\n",
    "from sklearn.model_selection import train_test_split\n",
    "import os, shutil, random\n",
    "from sklearn.metrics import confusion_matrix\n",
    "import itertools\n",
    "from sklearn.preprocessing import LabelBinarizer\n",
    "from sklearn.preprocessing import MinMaxScaler"
   ]
  },
  {
   "cell_type": "code",
   "execution_count": 3,
   "metadata": {},
   "outputs": [],
   "source": [
    "combined_a = tensorflow.keras.models.load_model('model.h5', compile=False)"
   ]
  },
  {
   "cell_type": "markdown",
   "metadata": {},
   "source": [
    "### Define preprocessing function for demographic data"
   ]
  },
  {
   "cell_type": "code",
   "execution_count": 32,
   "metadata": {},
   "outputs": [],
   "source": [
    "def preprocess_dem(train,test):\n",
    "\n",
    "\n",
    "    #replace missing age values by median\n",
    "    train['age'] = train['age'].fillna(train['age'].median())\n",
    "    test['age'] = test['age'].fillna(train['age'].median())\n",
    "    \n",
    "    # performin min-max scaling each continuous feature column to\n",
    "    # the range [0, 1]\n",
    "    cs = MinMaxScaler()\n",
    "    train[\"age\"] = cs.fit_transform(train[\"age\"].values.reshape(-1,1))\n",
    "    test[\"age\"] = cs.transform(test[\"age\"].values.reshape(-1,1))\n",
    " \n",
    "    train['sex'].replace(\"unknown\",train['sex'].value_counts().index[0], inplace=True)\n",
    "    train[\"sex\"] = np.where(train['sex']==\"female\",1,0)\n",
    "    \n",
    "    test['sex'].replace(\"unknown\",train['sex'].value_counts().index[0], inplace=True)\n",
    "    test[\"sex\"] = np.where(test['sex']==\"female\",1,0)\n",
    "    \n",
    "    # return the concatenated training and testing data\n",
    "    return (train, test)"
   ]
  },
  {
   "cell_type": "markdown",
   "metadata": {},
   "source": [
    "### Load demographic data for all images (inkl. augmented images)"
   ]
  },
  {
   "cell_type": "code",
   "execution_count": 6,
   "metadata": {},
   "outputs": [],
   "source": [
    "diagnose = ['bkl', 'nv', 'df', 'mel', 'vasc', 'bcc', 'akiec']\n",
    "\n",
    "train_dir = \"/Users/leona/PythonWork/Github_Projects/Final_Pro/data/ISIC2018_Task3_Training_Input/train/\"\n",
    "validation_dir = \"/Users/leona/PythonWork/Github_Projects/Final_Pro/data/ISIC2018_Task3_Training_Input/validation/\""
   ]
  },
  {
   "cell_type": "code",
   "execution_count": 14,
   "metadata": {},
   "outputs": [],
   "source": [
    "def get_imagelist(classes,path):\n",
    "    img_list = []\n",
    "    for c in classes:\n",
    "        img_list.append(os.listdir(path + c))\n",
    "    img_list = [item for sublist in img_list for item in sublist]\n",
    "    return img_list"
   ]
  },
  {
   "cell_type": "code",
   "execution_count": 15,
   "metadata": {},
   "outputs": [],
   "source": [
    "train_list = get_imagelist(diagnose,train_dir)\n",
    "val_list = get_imagelist(diagnose,validation_dir)"
   ]
  },
  {
   "cell_type": "markdown",
   "metadata": {},
   "source": [
    "#### Get main dataframe"
   ]
  },
  {
   "cell_type": "code",
   "execution_count": 19,
   "metadata": {},
   "outputs": [],
   "source": [
    "meta = pd.read_pickle(\"./meta.pkl\")"
   ]
  },
  {
   "cell_type": "code",
   "execution_count": 21,
   "metadata": {},
   "outputs": [],
   "source": [
    "train = pd.read_pickle(\"./aug_train.pkl\")"
   ]
  },
  {
   "cell_type": "code",
   "execution_count": 22,
   "metadata": {},
   "outputs": [],
   "source": [
    "validation = pd.read_pickle(\"aug_test.pkl\")"
   ]
  },
  {
   "cell_type": "code",
   "execution_count": 33,
   "metadata": {},
   "outputs": [
    {
     "name": "stderr",
     "output_type": "stream",
     "text": [
      "/Users/leona/anaconda3/envs/finalpro/lib/python3.6/site-packages/pandas/core/ops/__init__.py:1115: FutureWarning: elementwise comparison failed; returning scalar instead, but in the future will perform elementwise comparison\n",
      "  result = method(y)\n"
     ]
    }
   ],
   "source": [
    "train_pr, validation_pr = preprocess_dem(train,validation)"
   ]
  },
  {
   "cell_type": "markdown",
   "metadata": {},
   "source": [
    "### Define custom image generator"
   ]
  },
  {
   "cell_type": "code",
   "execution_count": null,
   "metadata": {},
   "outputs": [],
   "source": [
    "def createGenerator(df):\n",
    "\n",
    "    while True:\n",
    "        # suffled indices    \n",
    "        idx = df.sample(n=10, replace=False).index\n",
    "        # create image generator\n",
    "        datagen = ImageDataGenerator(\n",
    "            preprocessing_function= tensorflow.keras.applications.mobilenet.preprocess_input)\n",
    "\n",
    "        batches = datagen.flow_from_dataframe(df.loc[idx], x_col=\"full_id\",y_col=\"dx\", shuffle=False)\n",
    "        for batch in batches:\n",
    "        \n",
    "            yield [batch[0], df.loc[idx[[\"age\", \"sex\"]].values]], batch[1]"
   ]
  }
 ],
 "metadata": {
  "kernelspec": {
   "display_name": "Python 3",
   "language": "python",
   "name": "python3"
  },
  "language_info": {
   "codemirror_mode": {
    "name": "ipython",
    "version": 3
   },
   "file_extension": ".py",
   "mimetype": "text/x-python",
   "name": "python",
   "nbconvert_exporter": "python",
   "pygments_lexer": "ipython3",
   "version": "3.6.9"
  }
 },
 "nbformat": 4,
 "nbformat_minor": 2
}
